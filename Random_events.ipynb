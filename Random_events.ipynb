{
 "cells": [
  {
   "cell_type": "markdown",
   "metadata": {},
   "source": [
    "**Задание**\n",
    "\n",
    "Смоделировать игру против лотерейного автомата типа “777”. Игрок платит 1 руб., после чего выпадает случайное целое число, равномерно распределенное от 0 до 999. При некоторых значениях числа игрок получает выигрыш (см. справа)\n",
    "\n",
    "Выгодна ли игра игроку?\n",
    "\n",
    "Сколько в среднем приобретает или теряет игрок за одну игру?\n",
    "\n",
    "- $777: 200 руб.$\n",
    "- $999: 100 руб.$\n",
    "- $555: 50 руб.$\n",
    "- $333: 15 руб.$\n",
    "- $111: 10 руб.$\n",
    "- $*77: 5 руб.$\n",
    "- $**7: 3 руб.$\n",
    "- $* 00: 2 руб.$\n",
    "- $**0: 1 руб.$\n",
    "- $любая$ $цифра: 0 руб$\n",
    "\n",
    "Дополнительное задание повышенной сложности. Теоретически рассчитать средний выигрыш (проигрыш) и сравнить с результатами моделирования"
   ]
  },
  {
   "cell_type": "markdown",
   "metadata": {},
   "source": [
    "**В качестве нуля я принимаю комбинацию из трех нулей.**\n",
    "\n",
    "**M - удачные исходы**\n",
    "\n",
    "**N - общее кол-во исходов (их 1000)**\n",
    "\n",
    "**А - событие**\n",
    "\n",
    "**Р(А) - вероятность события**\n",
    "\n",
    "- $777 M= 1$\n",
    "- $999 M = 1$\n",
    "- $555 M = 1$\n",
    "- $333 M = 1$\n",
    "- $111 M = 1$\n",
    "- $*77$ $M = 10 - 1(777) = 9$ уточнение: все возможные варианты благоприятного события минус одно событие, которое учтено уже выше\n",
    "- $**7$ $M = 100 -1(777) - 9(*77) = 90$\n",
    "- $*00$ $M = 10$\n",
    "- $**0$ $M = 100 - 10 (**0) = 90$\n"
   ]
  },
  {
   "cell_type": "code",
   "execution_count": 50,
   "metadata": {},
   "outputs": [
    {
     "name": "stdout",
     "output_type": "stream",
     "text": [
      "0.8\n"
     ]
    }
   ],
   "source": [
    "# теоритический расчет выигрыша \n",
    "\n",
    "M = [1,1,1,1,1,9,90,10,90]\n",
    "N = 1000\n",
    "Rub = [200,100,50,15,10,5,3,2,1]\n",
    "P_list = [] \n",
    "mean_gain = 0\n",
    "for element in M:\n",
    "    P = element/N\n",
    "    P_list.append(P)\n",
    "\n",
    "for i in range(9):\n",
    "    P_rub = P_list[i]*Rub[i]\n",
    "    mean_gain += P_rub\n",
    "print(mean_gain)"
   ]
  },
  {
   "cell_type": "markdown",
   "metadata": {},
   "source": [
    "**Средний \"выигрыш\" составляет 80 копеек. Учитывая стоимость каждой игры в 1 рубль, получается, что игрок каждую игру теряет 20 копеек.**"
   ]
  },
  {
   "cell_type": "code",
   "execution_count": 19,
   "metadata": {},
   "outputs": [],
   "source": [
    "import re"
   ]
  },
  {
   "cell_type": "code",
   "execution_count": 55,
   "metadata": {},
   "outputs": [
    {
     "name": "stdout",
     "output_type": "stream",
     "text": [
      "0.79309\n"
     ]
    }
   ],
   "source": [
    "# моделирование игры\n",
    "\n",
    "import numpy as np\n",
    "\n",
    "trials = 100000    # Количество попыток\n",
    "money = 0\n",
    "\n",
    "for i in range(trials):\n",
    "    random_score = np.random.randint(0, 1000)    \n",
    "    if random_score == 777:\n",
    "        money += 200\n",
    "    elif random_score == 999:\n",
    "        money += 100\n",
    "    elif random_score == 555:\n",
    "        money += 50\n",
    "    elif random_score == 333:\n",
    "        money += 15\n",
    "    elif random_score == 111:\n",
    "        money += 10\n",
    "    elif re.findall(r'[0-6,8,9]77', str(random_score)):\n",
    "        money += 5\n",
    "    elif re.findall(r'\\d[0-6,8,9]7', str(random_score)):\n",
    "        money += 3\n",
    "    elif re.findall(r'[0-9]00', str(random_score)):\n",
    "        money += 2\n",
    "    elif re.findall(r'\\d[1-9]0', str(random_score)):\n",
    "        money += 1\n",
    "    else:\n",
    "        money += 0\n",
    "        \n",
    "mean_gain = money/trials\n",
    "print(mean_gain)"
   ]
  },
  {
   "cell_type": "code",
   "execution_count": null,
   "metadata": {},
   "outputs": [],
   "source": []
  }
 ],
 "metadata": {
  "kernelspec": {
   "display_name": "Python 3",
   "language": "python",
   "name": "python3"
  },
  "language_info": {
   "codemirror_mode": {
    "name": "ipython",
    "version": 3
   },
   "file_extension": ".py",
   "mimetype": "text/x-python",
   "name": "python",
   "nbconvert_exporter": "python",
   "pygments_lexer": "ipython3",
   "version": "3.7.6"
  }
 },
 "nbformat": 4,
 "nbformat_minor": 4
}
